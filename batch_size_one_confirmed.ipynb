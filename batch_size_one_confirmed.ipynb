{
 "cells": [
  {
   "cell_type": "code",
   "execution_count": 5,
   "metadata": {},
   "outputs": [
    {
     "name": "stdout",
     "output_type": "stream",
     "text": [
      "Parsing annotation files\n"
     ]
    }
   ],
   "source": [
    "from keras_frcnn import data_generators\n",
    "import keras.backend as K\n",
    "from keras_frcnn.simple_parser import get_data\n",
    "from keras_frcnn import config\n",
    "\n",
    "all_imgs, classes_count, class_mapping = get_data('/home/henri_tomas/projects/voc07/2007_train.txt')\n",
    "\n",
    "C = config.Config()\n",
    "from keras_frcnn import thundernetv1 as nn\n",
    "C.network = 'thundernetv1'\n",
    "\n",
    "data_gen_train = data_generators.get_anchor_gt(all_imgs, classes_count, C, nn.get_img_output_length, K.image_dim_ordering(), mode='train')"
   ]
  },
  {
   "cell_type": "code",
   "execution_count": 9,
   "metadata": {},
   "outputs": [],
   "source": [
    "X, Y, img_data = next(data_gen_train)"
   ]
  },
  {
   "cell_type": "code",
   "execution_count": 10,
   "metadata": {},
   "outputs": [
    {
     "name": "stdout",
     "output_type": "stream",
     "text": [
      "{'filepath': '/home/henri_tomas/projects/voc07/VOCdevkit/VOC2007/JPEGImages/003260.jpg', 'width': 326, 'height': 500, 'bboxes': [{'class': 'person', 'x1': 11, 'x2': 112, 'y1': 58, 'y2': 449}, {'class': 'person', 'x1': 118, 'x2': 201, 'y1': 76, 'y2': 431}, {'class': 'person', 'x1': 187, 'x2': 261, 'y1': 72, 'y2': 425}], 'imageset': 'trainval'}\n"
     ]
    }
   ],
   "source": [
    "print(img_data)"
   ]
  },
  {
   "cell_type": "code",
   "execution_count": 12,
   "metadata": {},
   "outputs": [
    {
     "name": "stdout",
     "output_type": "stream",
     "text": [
      "All images in trainval dataset: 1025\n"
     ]
    }
   ],
   "source": [
    "print(\"All images in trainval dataset: %d\" % (len(all_imgs)))"
   ]
  }
 ],
 "metadata": {
  "kernelspec": {
   "display_name": "keras1",
   "language": "python",
   "name": "keras1"
  },
  "language_info": {
   "codemirror_mode": {
    "name": "ipython",
    "version": 3
   },
   "file_extension": ".py",
   "mimetype": "text/x-python",
   "name": "python",
   "nbconvert_exporter": "python",
   "pygments_lexer": "ipython3",
   "version": "3.6.9"
  }
 },
 "nbformat": 4,
 "nbformat_minor": 4
}
