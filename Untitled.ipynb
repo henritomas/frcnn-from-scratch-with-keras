{
 "cells": [
  {
   "cell_type": "code",
   "execution_count": 2,
   "metadata": {},
   "outputs": [
    {
     "name": "stdout",
     "output_type": "stream",
     "text": [
      "/home/henri_tomas/miniconda3/envs/keras1/lib/python3.6/site-packages/tensorflow/python/framework/dtypes.py:526: FutureWarning: Passing (type, 1) or '1type' as a synonym of type is deprecated; in a future version of numpy, it will be understood as (type, (1,)) / '(1,)type'.\n",
      "  _np_qint8 = np.dtype([(\"qint8\", np.int8, 1)])\n",
      "/home/henri_tomas/miniconda3/envs/keras1/lib/python3.6/site-packages/tensorflow/python/framework/dtypes.py:527: FutureWarning: Passing (type, 1) or '1type' as a synonym of type is deprecated; in a future version of numpy, it will be understood as (type, (1,)) / '(1,)type'.\n",
      "  _np_quint8 = np.dtype([(\"quint8\", np.uint8, 1)])\n",
      "/home/henri_tomas/miniconda3/envs/keras1/lib/python3.6/site-packages/tensorflow/python/framework/dtypes.py:528: FutureWarning: Passing (type, 1) or '1type' as a synonym of type is deprecated; in a future version of numpy, it will be understood as (type, (1,)) / '(1,)type'.\n",
      "  _np_qint16 = np.dtype([(\"qint16\", np.int16, 1)])\n",
      "/home/henri_tomas/miniconda3/envs/keras1/lib/python3.6/site-packages/tensorflow/python/framework/dtypes.py:529: FutureWarning: Passing (type, 1) or '1type' as a synonym of type is deprecated; in a future version of numpy, it will be understood as (type, (1,)) / '(1,)type'.\n",
      "  _np_quint16 = np.dtype([(\"quint16\", np.uint16, 1)])\n",
      "/home/henri_tomas/miniconda3/envs/keras1/lib/python3.6/site-packages/tensorflow/python/framework/dtypes.py:530: FutureWarning: Passing (type, 1) or '1type' as a synonym of type is deprecated; in a future version of numpy, it will be understood as (type, (1,)) / '(1,)type'.\n",
      "  _np_qint32 = np.dtype([(\"qint32\", np.int32, 1)])\n",
      "/home/henri_tomas/miniconda3/envs/keras1/lib/python3.6/site-packages/tensorflow/python/framework/dtypes.py:535: FutureWarning: Passing (type, 1) or '1type' as a synonym of type is deprecated; in a future version of numpy, it will be understood as (type, (1,)) / '(1,)type'.\n",
      "  np_resource = np.dtype([(\"resource\", np.ubyte, 1)])\n",
      "Traceback (most recent call last):\n",
      "  File \"/home/henri_tomas/miniconda3/envs/keras1/bin/tflite_convert\", line 8, in <module>\n",
      "    sys.exit(main())\n",
      "  File \"/home/henri_tomas/miniconda3/envs/keras1/lib/python3.6/site-packages/tensorflow/lite/python/tflite_convert.py\", line 442, in main\n",
      "    app.run(main=run_main, argv=sys.argv[:1])\n",
      "  File \"/home/henri_tomas/miniconda3/envs/keras1/lib/python3.6/site-packages/tensorflow/python/platform/app.py\", line 125, in run\n",
      "    _sys.exit(main(argv))\n",
      "  File \"/home/henri_tomas/miniconda3/envs/keras1/lib/python3.6/site-packages/tensorflow/lite/python/tflite_convert.py\", line 438, in run_main\n",
      "    _convert_model(tflite_flags)\n",
      "  File \"/home/henri_tomas/miniconda3/envs/keras1/lib/python3.6/site-packages/tensorflow/lite/python/tflite_convert.py\", line 122, in _convert_model\n",
      "    converter = _get_toco_converter(flags)\n",
      "  File \"/home/henri_tomas/miniconda3/envs/keras1/lib/python3.6/site-packages/tensorflow/lite/python/tflite_convert.py\", line 109, in _get_toco_converter\n",
      "    return converter_fn(**converter_kwargs)\n",
      "  File \"/home/henri_tomas/miniconda3/envs/keras1/lib/python3.6/site-packages/tensorflow/lite/python/lite.py\", line 370, in from_keras_model_file\n",
      "    keras_model = _keras.models.load_model(model_file)\n",
      "  File \"/home/henri_tomas/miniconda3/envs/keras1/lib/python3.6/site-packages/tensorflow/python/keras/engine/saving.py\", line 232, in load_model\n",
      "    raise ValueError('No model found in config file.')\n",
      "ValueError: No model found in config file.\n"
     ]
    }
   ],
   "source": [
    "\n",
    "SRC = \"./models/thundernetv1/voc_person_rpn.hdf5\"\n",
    "DST = \"voc_person_rpn.tflite\"\n",
    "!tflite_convert --keras_model_file $SRC --output_file $DST"
   ]
  },
  {
   "cell_type": "code",
   "execution_count": null,
   "metadata": {},
   "outputs": [],
   "source": []
  }
 ],
 "metadata": {
  "kernelspec": {
   "display_name": "keras1",
   "language": "python",
   "name": "keras1"
  },
  "language_info": {
   "codemirror_mode": {
    "name": "ipython",
    "version": 3
   },
   "file_extension": ".py",
   "mimetype": "text/x-python",
   "name": "python",
   "nbconvert_exporter": "python",
   "pygments_lexer": "ipython3",
   "version": "3.6.9"
  }
 },
 "nbformat": 4,
 "nbformat_minor": 4
}
